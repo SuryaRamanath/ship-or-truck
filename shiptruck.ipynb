{
 "cells": [
  {
   "cell_type": "markdown",
   "id": "60d24bb7",
   "metadata": {},
   "source": [
    "# Classification of ship and truck images"
   ]
  },
  {
   "cell_type": "code",
   "execution_count": null,
   "id": "8d2d4ae0",
   "metadata": {},
   "outputs": [],
   "source": [
    "import tensorflow as tf\n",
    "\n",
    "# Display the version\n",
    "print(tf.__version__)\n",
    "\n",
    "# other imports\n",
    "import numpy as np\n",
    "import matplotlib.pyplot as plt\n",
    "from tensorflow.keras.layers import Input, Conv2D, Dense, Flatten, Dropout\n",
    "from tensorflow.keras.layers import GlobalMaxPooling2D, MaxPooling2D\n",
    "from tensorflow.keras.layers import BatchNormalization\n",
    "from tensorflow.keras.models import Model"
   ]
  },
  {
   "cell_type": "code",
   "execution_count": null,
   "id": "64fde599",
   "metadata": {},
   "outputs": [],
   "source": [
    "# Load in the data\n",
    "cifar10 = tf.keras.datasets.cifar10\n",
    "\n",
    "# Distribute it to train and test set\n",
    "(x_train, y_train), (x_test, y_test) = cifar10.load_data()\n",
    "print(x_train.shape, y_train.shape, x_test.shape, y_test.shape)\n",
    "\n",
    "\n",
    "# flatten the label values\n",
    "y_train, y_test = y_train.flatten(), y_test.flatten()\n",
    "\n",
    "#creating subset of only ship and truck\n",
    "x_train = x_train[np.isin(y_train, [8,9])]\n",
    "y_train = y_train[np.isin(y_train, [8,9])]\n",
    "x_test = x_test[np.isin(y_test, [8,9])]\n",
    "y_test = y_test[np.isin(y_test, [8,9])]"
   ]
  },
  {
   "cell_type": "code",
   "execution_count": null,
   "id": "3445e379",
   "metadata": {},
   "outputs": [],
   "source": [
    "# Reduce pixel values\n",
    "x_train, x_test = x_train / 255.0, x_test / 255.0\n",
    "\n",
    "\n",
    "print(x_train.shape, y_train.shape, x_test.shape, y_test.shape)\n",
    "\n",
    "label_map = {8:0,9:1}\n",
    "y_train = np.array([label_map[each] for each in y_train])\n",
    "y_test = np.array([label_map[each] for each in y_test])\n",
    "type(y_test)"
   ]
  },
  {
   "cell_type": "code",
   "execution_count": null,
   "id": "8a85726c",
   "metadata": {},
   "outputs": [],
   "source": [
    "# visualize data by plotting images\n",
    "fig, ax = plt.subplots(5, 5)\n",
    "k = 0\n",
    " \n",
    "for i in range(5):\n",
    "    for j in range(5):\n",
    "        ax[i][j].imshow(x_train[k], aspect='auto')\n",
    "        k += 1\n",
    " \n",
    "plt.show()\n"
   ]
  },
  {
   "cell_type": "code",
   "execution_count": null,
   "id": "02e2077f",
   "metadata": {},
   "outputs": [],
   "source": [
    "# number of classes\n",
    "K = len(set(y_train))\n",
    "\n",
    "# calculate total numer of classes\n",
    "# for output layer\n",
    "print(\"number of classes:\", K)"
   ]
  },
  {
   "cell_type": "code",
   "execution_count": null,
   "id": "76de4d11",
   "metadata": {},
   "outputs": [],
   "source": [
    "# Build the model using the functional API\n",
    "# input layer\n",
    "i = Input(shape=x_train[0].shape)\n",
    "x = Conv2D(32, (3, 3), activation='relu', padding='same')(i)\n",
    "x = BatchNormalization()(x)\n",
    "x = Conv2D(32, (3, 3), activation='relu', padding='same')(x)\n",
    "x = BatchNormalization()(x)\n",
    "x = MaxPooling2D((2, 2))(x)\n",
    "\n",
    "x = Conv2D(64, (3, 3), activation='relu', padding='same')(x)\n",
    "x = BatchNormalization()(x)\n",
    "x = Conv2D(64, (3, 3), activation='relu', padding='same')(x)\n",
    "x = BatchNormalization()(x)\n",
    "x = MaxPooling2D((2, 2))(x)\n",
    "\n",
    "x = Conv2D(128, (3, 3), activation='relu', padding='same')(x)\n",
    "x = BatchNormalization()(x)\n",
    "x = Conv2D(128, (3, 3), activation='relu', padding='same')(x)\n",
    "x = BatchNormalization()(x)\n",
    "x = MaxPooling2D((2, 2))(x)\n",
    "\n",
    "x = Flatten()(x)\n",
    "x = Dropout(0.2)(x)\n",
    "\n",
    "# Hidden layer\n",
    "x = Dense(1024, activation='relu')(x)\n",
    "x = Dropout(0.2)(x)\n",
    "\n",
    "# last hidden layer i.e.. output layer\n",
    "x = Dense(K, activation='softmax')(x)\n",
    "\n",
    "model = Model(i, x)\n",
    "\n",
    "# model description\n",
    "model.summary()\n"
   ]
  },
  {
   "cell_type": "code",
   "execution_count": null,
   "id": "f472cf1a",
   "metadata": {},
   "outputs": [],
   "source": [
    "# Compile\n",
    "model.compile(optimizer='adam',loss='sparse_categorical_crossentropy', metrics=['accuracy'])"
   ]
  },
  {
   "cell_type": "code",
   "execution_count": null,
   "id": "ad0645c5",
   "metadata": {},
   "outputs": [],
   "source": [
    "# Fit\n",
    "r = model.fit(\n",
    "x_train, y_train, validation_data=(x_test, y_test), epochs=50)"
   ]
  },
  {
   "cell_type": "code",
   "execution_count": null,
   "id": "2ccd8224",
   "metadata": {},
   "outputs": [],
   "source": [
    "model.save(\"shiptruck_model\")"
   ]
  }
 ],
 "metadata": {
  "kernelspec": {
   "display_name": "Python 3 (ipykernel)",
   "language": "python",
   "name": "python3"
  },
  "language_info": {
   "codemirror_mode": {
    "name": "ipython",
    "version": 3
   },
   "file_extension": ".py",
   "mimetype": "text/x-python",
   "name": "python",
   "nbconvert_exporter": "python",
   "pygments_lexer": "ipython3",
   "version": "3.8.10"
  }
 },
 "nbformat": 4,
 "nbformat_minor": 5
}
